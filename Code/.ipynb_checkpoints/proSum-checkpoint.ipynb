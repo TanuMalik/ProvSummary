{
 "cells": [
  {
   "cell_type": "code",
   "execution_count": 1,
   "metadata": {
    "collapsed": true
   },
   "outputs": [],
   "source": [
    "import math\n",
    "import sys\n",
    "import numpy as np\n",
    "import pandas as pd\n",
    "import matplotlib as mpl\n",
    "from __future__ import division\n",
    "mpl.rc('figure', figsize=[10,6])"
   ]
  },
  {
   "cell_type": "code",
   "execution_count": 2,
   "metadata": {
    "collapsed": true
   },
   "outputs": [],
   "source": [
    "def updateFlag(val,sorted_attr_row):\n",
    "    for i in range(len(sorted_attr_row)-1):\n",
    "        val[i] = sorted_attr_row[i+1]\n",
    "\n",
    "def defineT(attr):\n",
    "    dtype = [('Id',int)]\n",
    "    for i in range(len(attr)):\n",
    "        dtype.append((attr[i],'S10'))\n",
    "    return dtype"
   ]
  },
  {
   "cell_type": "code",
   "execution_count": 3,
   "metadata": {
    "collapsed": true
   },
   "outputs": [],
   "source": [
    "# Grouping by node attributes\n",
    "def ACompatible(graph,edge,attr):\n",
    "    dtype = defineT(attr)\n",
    "    value = list(graph[attr].itertuples())\n",
    "    original_table = np.asarray(value,dtype=dtype)\n",
    "    groupArr = []\n",
    "\n",
    "    sorted_attr = np.sort(original_table, order=attr)  \n",
    "    val = ['','']\n",
    "    for i in range(len(sorted_attr)):\n",
    "        for j in range(len(attr)):\n",
    "            if(sorted_attr[i][j+1]==val[j]):\n",
    "                if(j == len(attr)-1):\n",
    "                    newGroup.append(sorted_attr[i])\n",
    "            else:\n",
    "                newGroup = [(sorted_attr[i])]\n",
    "                groupArr.append(newGroup)\n",
    "                updateFlag(val,sorted_attr[i])\n",
    "                break\n",
    "                \n",
    "    return groupArr"
   ]
  },
  {
   "cell_type": "code",
   "execution_count": 19,
   "metadata": {
    "collapsed": false
   },
   "outputs": [
    {
     "name": "stdout",
     "output_type": "stream",
     "text": [
      "  Vertex Type  Group\n",
      "0     n1    E    NaN\n",
      "1     n2    A    NaN\n",
      "2     n3    E    NaN\n",
      "3     n4    A    NaN\n",
      "4     n5    E    NaN\n",
      "5     n6    A    NaN\n",
      "  Edge   n1   n2   n3   n4   n5  n6\n",
      "0   n1  NaN  1.0  NaN  NaN  NaN NaN\n",
      "1   n2  NaN  NaN  3.0  NaN  NaN NaN\n",
      "2   n3  NaN  NaN  NaN  NaN  NaN NaN\n",
      "3   n4  NaN  NaN  2.0  NaN  NaN NaN\n",
      "4   n5  NaN  NaN  NaN  1.0  NaN NaN\n",
      "5   n6  2.0  NaN  NaN  NaN  2.0 NaN\n"
     ]
    }
   ],
   "source": [
    "# Read graph data in csv files\n",
    "vertex = pd.read_csv('proSumData/vertices_eg1.csv')\n",
    "edge = pd.read_csv('proSumData/edges_eg1.csv')\n",
    "attr = ['Type']\n",
    "print vertex\n",
    "print edge"
   ]
  },
  {
   "cell_type": "code",
   "execution_count": 20,
   "metadata": {
    "collapsed": false
   },
   "outputs": [
    {
     "data": {
      "text/plain": [
       "[[(1, 'A'), (3, 'A'), (5, 'A')], [(0, 'E'), (2, 'E'), (4, 'E')]]"
      ]
     },
     "execution_count": 20,
     "metadata": {},
     "output_type": "execute_result"
    }
   ],
   "source": [
    "# get A-Compatibla grouping\n",
    "ACompResult = ACompatible(vertex, edge, attr)\n",
    "ACompResult"
   ]
  },
  {
   "cell_type": "code",
   "execution_count": 21,
   "metadata": {
    "collapsed": true
   },
   "outputs": [],
   "source": [
    "# convert into arrays\n",
    "vertex = np.asarray(vertex)\n",
    "edge = np.asarray(edge)"
   ]
  },
  {
   "cell_type": "code",
   "execution_count": 8,
   "metadata": {
    "collapsed": true
   },
   "outputs": [],
   "source": [
    "# Update data structures\n",
    "def DataStructure(tempResult, tempVertex, edge):\n",
    "    print \"update data structure\"\n",
    "    groupNum = len(tempResult)\n",
    "    print \"group number: \", groupNum\n",
    "    nodeNum = edge.shape[0]\n",
    "    \n",
    "    # in-groups bitMap\n",
    "    mapsize = (nodeNum,groupNum)\n",
    "    bitMap = np.zeros(mapsize)\n",
    "    \n",
    "    for i in range(nodeNum):\n",
    "        for g in range(groupNum):\n",
    "            groupSet = tempResult[g]\n",
    "            for j in range(len(groupSet)):\n",
    "                currentNode = groupSet[j][0]\n",
    "                # update group index of each node\n",
    "                vertex[currentNode][2] = g\n",
    "                # update number of nodes from in-groups\n",
    "                if(not pd.isnull(edge[currentNode][i+1])):\n",
    "                    bitMap[i][g] = bitMap[i][g] + 1\n",
    "    \n",
    "    return vertex, bitMap"
   ]
  },
  {
   "cell_type": "code",
   "execution_count": 22,
   "metadata": {
    "collapsed": false
   },
   "outputs": [
    {
     "name": "stdout",
     "output_type": "stream",
     "text": [
      "update data structure\n",
      "group number:  2\n",
      "updated vertex: \n",
      "[['n1' 'E' 1]\n",
      " ['n2' 'A' 0]\n",
      " ['n3' 'E' 1]\n",
      " ['n4' 'A' 0]\n",
      " ['n5' 'E' 1]\n",
      " ['n6' 'A' 0]]\n",
      "init bitmap: \n",
      "[[ 1.  0.]\n",
      " [ 0.  1.]\n",
      " [ 2.  0.]\n",
      " [ 0.  1.]\n",
      " [ 1.  0.]\n",
      " [ 0.  0.]]\n"
     ]
    }
   ],
   "source": [
    "updateVertex, initBitMap = DataStructure(ACompResult, vertex, edge)\n",
    "print \"updated vertex: \"\n",
    "print updateVertex\n",
    "print \"init bitmap: \"\n",
    "print initBitMap"
   ]
  },
  {
   "cell_type": "code",
   "execution_count": 12,
   "metadata": {
    "collapsed": true
   },
   "outputs": [],
   "source": [
    "# Check group of a node and Split into subgroups\n",
    "def Split(node, tempResult, tempVertex, tempBitMap):\n",
    "    groupNum = tempBitMap.shape[1]\n",
    "    currentGroup = tempVertex[node][2]\n",
    "    groupSet = tempResult[currentGroup]\n",
    "    subGroup1 = []\n",
    "    subGroup2 = []\n",
    "    \n",
    "    for i in range(len(groupSet)):\n",
    "        currentNode = groupSet[i][0]\n",
    "        for g in range(groupNum):\n",
    "            if(tempBitMap[currentNode][g] != tempBitMap[node][g]):\n",
    "                # a new group\n",
    "                tempVertex[currentNode][2] = groupNum\n",
    "        # split into two subgroups\n",
    "        if(tempVertex[currentNode][2] == currentGroup):\n",
    "            subGroup1.append((currentNode, tempVertex[currentNode][1]))\n",
    "        elif(tempVertex[currentNode][2] == groupNum):\n",
    "            subGroup2.append((currentNode, tempVertex[currentNode][1]))\n",
    "        \n",
    "    if(subGroup2): # split\n",
    "        tempResult.remove(groupSet)\n",
    "        tempResult.append(subGroup1)\n",
    "        tempResult.append(subGroup2)\n",
    "        return True, tempVertex, tempResult\n",
    "    else: # already same in-groups\n",
    "        return False, tempVertex, tempResult"
   ]
  },
  {
   "cell_type": "code",
   "execution_count": 23,
   "metadata": {
    "collapsed": false
   },
   "outputs": [
    {
     "name": "stdout",
     "output_type": "stream",
     "text": [
      "True\n",
      "[['n1' 'E' 1]\n",
      " ['n2' 'A' 2]\n",
      " ['n3' 'E' 1]\n",
      " ['n4' 'A' 2]\n",
      " ['n5' 'E' 1]\n",
      " ['n6' 'A' 0]]\n",
      "[[(0, 'E'), (2, 'E'), (4, 'E')], [(5, 'A')], [(1, 'A'), (3, 'A')]]\n"
     ]
    }
   ],
   "source": [
    "# BFS queue: n6, n1, n5, n2, n4, n3\n",
    "# n6\n",
    "isSplit, splitVertex, splitResult = Split(5, ACompResult, updateVertex, initBitMap)\n",
    "print isSplit\n",
    "print splitVertex\n",
    "print splitResult"
   ]
  },
  {
   "cell_type": "code",
   "execution_count": 24,
   "metadata": {
    "collapsed": false
   },
   "outputs": [
    {
     "name": "stdout",
     "output_type": "stream",
     "text": [
      "update data structure\n",
      "group number:  3\n",
      "[['n1' 'E' 0]\n",
      " ['n2' 'A' 2]\n",
      " ['n3' 'E' 0]\n",
      " ['n4' 'A' 2]\n",
      " ['n5' 'E' 0]\n",
      " ['n6' 'A' 1]]\n",
      "[[ 0.  1.  0.]\n",
      " [ 1.  0.  0.]\n",
      " [ 0.  0.  2.]\n",
      " [ 1.  0.  0.]\n",
      " [ 0.  1.  0.]\n",
      " [ 0.  0.  0.]]\n"
     ]
    }
   ],
   "source": [
    "# update data structures\n",
    "newVertex, newBitMap = DataStructure(splitResult, splitVertex, edge)\n",
    "print newVertex\n",
    "print newBitMap"
   ]
  },
  {
   "cell_type": "code",
   "execution_count": 25,
   "metadata": {
    "collapsed": false
   },
   "outputs": [
    {
     "name": "stdout",
     "output_type": "stream",
     "text": [
      "True\n",
      "[['n1' 'E' 0]\n",
      " ['n2' 'A' 2]\n",
      " ['n3' 'E' 2]\n",
      " ['n4' 'A' 2]\n",
      " ['n5' 'E' 0]\n",
      " ['n6' 'A' 1]]\n",
      "[[(5, 'A')], [(1, 'A'), (3, 'A')], [(0, 'E'), (4, 'E')], [(2, 'E')]]\n"
     ]
    }
   ],
   "source": [
    "# n1\n",
    "isSplit, splitVertex, splitResult = Split(0, ACompResult, updateVertex, initBitMap)\n",
    "print isSplit\n",
    "print splitVertex\n",
    "print splitResult"
   ]
  },
  {
   "cell_type": "code",
   "execution_count": 26,
   "metadata": {
    "collapsed": false
   },
   "outputs": [
    {
     "name": "stdout",
     "output_type": "stream",
     "text": [
      "update data structure\n",
      "group number:  4\n",
      "[['n1' 'E' 2]\n",
      " ['n2' 'A' 1]\n",
      " ['n3' 'E' 3]\n",
      " ['n4' 'A' 1]\n",
      " ['n5' 'E' 2]\n",
      " ['n6' 'A' 0]]\n",
      "[[ 1.  0.  0.  0.]\n",
      " [ 0.  0.  1.  0.]\n",
      " [ 0.  2.  0.  0.]\n",
      " [ 0.  0.  1.  0.]\n",
      " [ 1.  0.  0.  0.]\n",
      " [ 0.  0.  0.  0.]]\n"
     ]
    }
   ],
   "source": [
    "# update data structures\n",
    "newVertex, newBitMap = DataStructure(splitResult, splitVertex, edge)\n",
    "print newVertex\n",
    "print newBitMap"
   ]
  },
  {
   "cell_type": "code",
   "execution_count": 27,
   "metadata": {
    "collapsed": false
   },
   "outputs": [
    {
     "name": "stdout",
     "output_type": "stream",
     "text": [
      "False\n",
      "[['n1' 'E' 2]\n",
      " ['n2' 'A' 1]\n",
      " ['n3' 'E' 3]\n",
      " ['n4' 'A' 1]\n",
      " ['n5' 'E' 2]\n",
      " ['n6' 'A' 0]]\n",
      "[[(5, 'A')], [(1, 'A'), (3, 'A')], [(0, 'E'), (4, 'E')], [(2, 'E')]]\n"
     ]
    }
   ],
   "source": [
    "# n5\n",
    "isSplit, splitVertex, splitResult = Split(4, ACompResult, updateVertex, initBitMap)\n",
    "print isSplit\n",
    "print splitVertex\n",
    "print splitResult"
   ]
  },
  {
   "cell_type": "code",
   "execution_count": 28,
   "metadata": {
    "collapsed": false
   },
   "outputs": [
    {
     "name": "stdout",
     "output_type": "stream",
     "text": [
      "False\n",
      "[['n1' 'E' 2]\n",
      " ['n2' 'A' 1]\n",
      " ['n3' 'E' 3]\n",
      " ['n4' 'A' 1]\n",
      " ['n5' 'E' 2]\n",
      " ['n6' 'A' 0]]\n",
      "[[(5, 'A')], [(1, 'A'), (3, 'A')], [(0, 'E'), (4, 'E')], [(2, 'E')]]\n"
     ]
    }
   ],
   "source": [
    "# n2\n",
    "isSplit, splitVertex, splitResult = Split(1, ACompResult, updateVertex, initBitMap)\n",
    "print isSplit\n",
    "print splitVertex\n",
    "print splitResult"
   ]
  },
  {
   "cell_type": "code",
   "execution_count": 29,
   "metadata": {
    "collapsed": false
   },
   "outputs": [
    {
     "name": "stdout",
     "output_type": "stream",
     "text": [
      "False\n",
      "[['n1' 'E' 2]\n",
      " ['n2' 'A' 1]\n",
      " ['n3' 'E' 3]\n",
      " ['n4' 'A' 1]\n",
      " ['n5' 'E' 2]\n",
      " ['n6' 'A' 0]]\n",
      "[[(5, 'A')], [(1, 'A'), (3, 'A')], [(0, 'E'), (4, 'E')], [(2, 'E')]]\n"
     ]
    }
   ],
   "source": [
    "# n4\n",
    "isSplit, splitVertex, splitResult = Split(3, ACompResult, updateVertex, initBitMap)\n",
    "print isSplit\n",
    "print splitVertex\n",
    "print splitResult"
   ]
  },
  {
   "cell_type": "code",
   "execution_count": 30,
   "metadata": {
    "collapsed": false
   },
   "outputs": [
    {
     "name": "stdout",
     "output_type": "stream",
     "text": [
      "False\n",
      "[['n1' 'E' 2]\n",
      " ['n2' 'A' 1]\n",
      " ['n3' 'E' 3]\n",
      " ['n4' 'A' 1]\n",
      " ['n5' 'E' 2]\n",
      " ['n6' 'A' 0]]\n",
      "[[(5, 'A')], [(1, 'A'), (3, 'A')], [(0, 'E'), (4, 'E')], [(2, 'E')]]\n"
     ]
    }
   ],
   "source": [
    "# n3\n",
    "isSplit, splitVertex, splitResult = Split(2, ACompResult, updateVertex, initBitMap)\n",
    "print isSplit\n",
    "print splitVertex\n",
    "print splitResult"
   ]
  },
  {
   "cell_type": "code",
   "execution_count": null,
   "metadata": {
    "collapsed": true
   },
   "outputs": [],
   "source": [
    "# Graph summarization algorithm\n",
    "def IPS(src, vertex, edge, attr):"
   ]
  }
 ],
 "metadata": {
  "kernelspec": {
   "display_name": "Python 2",
   "language": "python",
   "name": "python2"
  },
  "language_info": {
   "codemirror_mode": {
    "name": "ipython",
    "version": 2
   },
   "file_extension": ".py",
   "mimetype": "text/x-python",
   "name": "python",
   "nbconvert_exporter": "python",
   "pygments_lexer": "ipython2",
   "version": "2.7.10"
  }
 },
 "nbformat": 4,
 "nbformat_minor": 0
}
