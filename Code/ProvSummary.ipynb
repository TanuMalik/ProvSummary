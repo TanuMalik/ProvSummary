{
 "cells": [
  {
   "cell_type": "code",
   "execution_count": 1,
   "metadata": {
    "collapsed": false
   },
   "outputs": [],
   "source": [
    "import math\n",
    "import sys\n",
    "import numpy as np\n",
    "import pandas as pd\n",
    "import matplotlib as mpl\n",
    "from __future__ import division\n",
    "mpl.rc('figure', figsize=[10,6])"
   ]
  },
  {
   "cell_type": "code",
   "execution_count": 2,
   "metadata": {
    "collapsed": true
   },
   "outputs": [],
   "source": [
    "def updateFlag(val,sorted_attr_row):\n",
    "    for i in range(len(sorted_attr_row)-1):\n",
    "        val[i] = sorted_attr_row[i+1]\n",
    "\n",
    "def defineT(attr):\n",
    "    dtype = [('Id',int)]\n",
    "    for i in range(len(attr)):\n",
    "        dtype.append((attr[i],'S10'))\n",
    "    return dtype\n",
    "\n",
    "# Grouping by node attributes\n",
    "def ACompatible(graph,edge,attr):\n",
    "    dtype = defineT(attr)\n",
    "    value = list(graph[attr].itertuples())\n",
    "    original_table = np.asarray(value,dtype=dtype)\n",
    "    groupArr = []\n",
    "\n",
    "    sorted_attr = np.sort(original_table, order=attr)  \n",
    "    val = ['','']\n",
    "    for i in range(len(sorted_attr)):\n",
    "        for j in range(len(attr)):\n",
    "            if(sorted_attr[i][j+1]==val[j]):\n",
    "                if(j == len(attr)-1):\n",
    "                    newGroup.append(sorted_attr[i])\n",
    "            else:\n",
    "                newGroup = [(sorted_attr[i])]\n",
    "                groupArr.append(newGroup)\n",
    "                updateFlag(val,sorted_attr[i])\n",
    "                break\n",
    "    return groupArr"
   ]
  },
  {
   "cell_type": "code",
   "execution_count": 3,
   "metadata": {
    "collapsed": true
   },
   "outputs": [],
   "source": [
    "# Update data structures\n",
    "def DataStructure(tempResult, tempVertex, edge):\n",
    "    groupNum = len(tempResult)\n",
    "    nodeNum = edge.shape[0]\n",
    "    \n",
    "    # in-groups bitMap\n",
    "    mapsize = (nodeNum,groupNum)\n",
    "    bitMap = np.zeros(mapsize)\n",
    "    \n",
    "    for i in range(nodeNum):\n",
    "        for g in range(groupNum):\n",
    "            groupSet = tempResult[g]\n",
    "            for j in range(len(groupSet)):\n",
    "                currentNode = groupSet[j][0]\n",
    "                # update group index of each node\n",
    "                tempVertex[currentNode][2] = g\n",
    "                # update number of nodes from in-groups\n",
    "                if(not pd.isnull(edge[currentNode][i+1])):\n",
    "                    bitMap[i][g] = bitMap[i][g] + 1\n",
    "    return tempVertex, bitMap"
   ]
  },
  {
   "cell_type": "code",
   "execution_count": 4,
   "metadata": {
    "collapsed": true
   },
   "outputs": [],
   "source": [
    "# Split into subgroups\n",
    "def Split(node, tempResult, tempVertex, tempBitMap):\n",
    "    groupNum = tempBitMap.shape[1]\n",
    "    currentGroup = tempVertex[node][2]\n",
    "    groupSet = tempResult[currentGroup]\n",
    "    subGroup1 = []\n",
    "    subGroup2 = []\n",
    "    \n",
    "    for i in range(len(groupSet)):\n",
    "        currentNode = groupSet[i][0]\n",
    "        for g in range(groupNum):\n",
    "            if(tempBitMap[currentNode][g] != tempBitMap[node][g]):\n",
    "                # Split to a new group\n",
    "                tempVertex[currentNode][2] = groupNum\n",
    "        if(tempVertex[currentNode][2] == currentGroup):\n",
    "            subGroup1.append((currentNode, tempVertex[currentNode][1]))\n",
    "        elif(tempVertex[currentNode][2] == groupNum):\n",
    "            subGroup2.append((currentNode, tempVertex[currentNode][1]))\n",
    "        \n",
    "    if(subGroup2):\n",
    "        tempResult.remove(groupSet)\n",
    "        tempResult.append(subGroup1)\n",
    "        tempResult.append(subGroup2)\n",
    "        return True, tempVertex, tempResult\n",
    "    else:\n",
    "        return False, tempVertex, tempResult"
   ]
  },
  {
   "cell_type": "code",
   "execution_count": 5,
   "metadata": {
    "collapsed": true
   },
   "outputs": [],
   "source": [
    "# BFS\n",
    "def BFS(edge, source):\n",
    "    visited, queue = [source], [source]\n",
    "    while queue:\n",
    "        node = queue.pop(0)\n",
    "        for i in range(1, edge.shape[1]):\n",
    "            if not pd.isnull(edge[node][i]):\n",
    "                neighbor = i - 1\n",
    "                if neighbor not in visited:\n",
    "                    visited.append(neighbor)\n",
    "                    queue.append(neighbor)\n",
    "    return visited"
   ]
  },
  {
   "cell_type": "code",
   "execution_count": 6,
   "metadata": {
    "collapsed": true
   },
   "outputs": [],
   "source": [
    "# Graph summarization algorithm\n",
    "def ProvSummary(src, vertex, edge, attr):\n",
    "    ACompResult = ACompatible(vertex, edge, attr)\n",
    "    print \"A-Compatible result: \", ACompResult\n",
    "    vertex = np.asarray(vertex)\n",
    "    edge = np.asarray(edge)\n",
    "    queue = BFS(edge, src)\n",
    "    print \"queue: \", queue\n",
    "    updateVertex, updateBitMap = DataStructure(ACompResult, vertex, edge)\n",
    "    splitVertex = updateVertex\n",
    "    splitResult = ACompResult\n",
    "    while queue:\n",
    "        node = queue.pop(0)\n",
    "        # split node\n",
    "        isSplit, splitVertex, splitResult = Split(node, ACompResult, updateVertex, updateBitMap)\n",
    "        if isSplit:\n",
    "            # update data structures\n",
    "            updateVertex, updateBitMap = DataStructure(splitResult, splitVertex, edge)\n",
    "    return splitResult"
   ]
  },
  {
   "cell_type": "code",
   "execution_count": 8,
   "metadata": {
    "collapsed": false
   },
   "outputs": [
    {
     "name": "stdout",
     "output_type": "stream",
     "text": [
      "A-Compatible result:  [[(1, 'A'), (3, 'A'), (5, 'A')], [(0, 'E'), (2, 'E'), (4, 'E')]]\n",
      "queue:  [5, 0, 4, 1, 3, 2]\n"
     ]
    },
    {
     "data": {
      "text/plain": [
       "[[(5, 'A')], [(1, 'A'), (3, 'A')], [(0, 'E'), (4, 'E')], [(2, 'E')]]"
      ]
     },
     "execution_count": 8,
     "metadata": {},
     "output_type": "execute_result"
    }
   ],
   "source": [
    "# Test on an example\n",
    "vertex = pd.read_csv('testData/vertices.csv')\n",
    "edge = pd.read_csv('testData/edges.csv')\n",
    "attr = ['Type']\n",
    "source = 5\n",
    "ProvSummary(source, vertex, edge, attr)"
   ]
  },
  {
   "cell_type": "markdown",
   "metadata": {},
   "source": [
    "# swift data"
   ]
  },
  {
   "cell_type": "code",
   "execution_count": 9,
   "metadata": {
    "collapsed": true
   },
   "outputs": [],
   "source": [
    "# Normalize vertex and edge\n",
    "def Normalize(vertex, edge):\n",
    "    NodeNum = len(vertex)\n",
    "    EdgeNum = len(edge)\n",
    "    vertex = np.asarray(vertex)\n",
    "    edge = np.asarray(edge)\n",
    "    \n",
    "    # create the adjencent matrix for edge\n",
    "    size = (NodeNum,NodeNum+1)\n",
    "    AdjMatrix = np.empty(size, dtype=object)\n",
    "    for k in range(NodeNum):\n",
    "        AdjMatrix[k][0] = k+1\n",
    "    for i in range(EdgeNum):\n",
    "        if edge[i][2]==1:\n",
    "            for j in range(NodeNum):\n",
    "                if (vertex[j][0] == edge[i][0]): \n",
    "                    startV = j\n",
    "                if(vertex[j][9] == edge[i][1]):\n",
    "                    endV = j\n",
    "        else:\n",
    "            for j in range(NodeNum):\n",
    "                if (vertex[j][9] == edge[i][1]):      \n",
    "                    startV = j\n",
    "                if(vertex[j][0] == edge[i][0]):\n",
    "                    endV = j\n",
    "        AdjMatrix[startV][endV+1] = 1\n",
    "    edge = AdjMatrix\n",
    "    \n",
    "    size = (NodeNum, 3)\n",
    "    reVertex = np.empty(size, dtype=object)\n",
    "    for i in range(NodeNum):\n",
    "        reVertex[i][0] = i\n",
    "        reVertex[i][1] = vertex[i][14]\n",
    "        \n",
    "    return reVertex, edge"
   ]
  },
  {
   "cell_type": "code",
   "execution_count": 10,
   "metadata": {
    "collapsed": true
   },
   "outputs": [],
   "source": [
    "# Algorithm for swift data\n",
    "def ProvSummary_Swift(src, vertex, edge, attr):\n",
    "    ACompResult = ACompatible(vertex, edge, attr)\n",
    "    print \"A-Compatible result: \", ACompResult\n",
    "    vertex, edge = Normalize(vertex, edge)\n",
    "    queue = BFS(edge, src)\n",
    "    print \"queue: \", queue\n",
    "    updateVertex, updateBitMap = DataStructure(ACompResult, vertex, edge)\n",
    "    splitResult = ACompResult\n",
    "    while queue:\n",
    "        node = queue.pop(0)\n",
    "        # split node\n",
    "        isSplit, splitVertex, splitResult = Split(node, ACompResult, updateVertex, updateBitMap)\n",
    "        if isSplit:\n",
    "            # update data structures\n",
    "            updateVertex, updateBitMap = DataStructure(splitResult, splitVertex, edge)\n",
    "    print len(splitResult), \"groups\"\n",
    "    return splitResult"
   ]
  },
  {
   "cell_type": "code",
   "execution_count": 11,
   "metadata": {
    "collapsed": false
   },
   "outputs": [
    {
     "name": "stdout",
     "output_type": "stream",
     "text": [
      "A-Compatible result:  [[(0, 'App'), (1, 'App'), (2, 'App'), (3, 'App'), (4, 'App'), (5, 'App'), (6, 'App'), (7, 'App'), (8, 'App'), (9, 'App'), (10, 'App'), (11, 'App'), (12, 'App'), (13, 'App'), (14, 'App'), (15, 'App'), (16, 'App'), (17, 'App')], [(18, 'File'), (19, 'File'), (20, 'File'), (21, 'File'), (22, 'File'), (23, 'File'), (24, 'File'), (25, 'File'), (26, 'File'), (27, 'File'), (28, 'File'), (29, 'File'), (30, 'File'), (31, 'File'), (32, 'File'), (33, 'File'), (34, 'File'), (35, 'File'), (36, 'File'), (37, 'File'), (38, 'File'), (39, 'File'), (40, 'File'), (41, 'File'), (42, 'File'), (43, 'File'), (44, 'File'), (45, 'File'), (46, 'File'), (47, 'File'), (48, 'File'), (49, 'File'), (50, 'File'), (51, 'File'), (52, 'File'), (53, 'File'), (54, 'File'), (55, 'File'), (56, 'File'), (57, 'File'), (58, 'File'), (59, 'File'), (60, 'File')]]\n",
      "queue:  [18, 0, 19, 20, 21, 22, 23, 24, 25, 26, 1, 9, 3, 12, 2, 10, 7, 16, 6, 14, 8, 15, 5, 13, 4, 11, 27, 28, 29, 52, 33, 34, 35, 55, 30, 31, 32, 53, 45, 46, 47, 59, 42, 43, 44, 57, 48, 49, 50, 58, 39, 40, 41, 56, 36, 37, 38, 54, 17, 60]\n",
      "9 groups\n"
     ]
    },
    {
     "data": {
      "text/plain": [
       "[[(18, 'File'), (51, 'File')],\n",
       " [(0, 'App')],\n",
       " [(19, 'File'),\n",
       "  (20, 'File'),\n",
       "  (21, 'File'),\n",
       "  (22, 'File'),\n",
       "  (23, 'File'),\n",
       "  (24, 'File'),\n",
       "  (25, 'File'),\n",
       "  (26, 'File')],\n",
       " [(1, 'App'),\n",
       "  (2, 'App'),\n",
       "  (3, 'App'),\n",
       "  (4, 'App'),\n",
       "  (5, 'App'),\n",
       "  (6, 'App'),\n",
       "  (7, 'App'),\n",
       "  (8, 'App')],\n",
       " [(9, 'App'),\n",
       "  (10, 'App'),\n",
       "  (11, 'App'),\n",
       "  (12, 'App'),\n",
       "  (13, 'App'),\n",
       "  (14, 'App'),\n",
       "  (15, 'App'),\n",
       "  (16, 'App')],\n",
       " [(17, 'App')],\n",
       " [(27, 'File'),\n",
       "  (28, 'File'),\n",
       "  (29, 'File'),\n",
       "  (30, 'File'),\n",
       "  (31, 'File'),\n",
       "  (32, 'File'),\n",
       "  (33, 'File'),\n",
       "  (34, 'File'),\n",
       "  (35, 'File'),\n",
       "  (36, 'File'),\n",
       "  (37, 'File'),\n",
       "  (38, 'File'),\n",
       "  (39, 'File'),\n",
       "  (40, 'File'),\n",
       "  (41, 'File'),\n",
       "  (42, 'File'),\n",
       "  (43, 'File'),\n",
       "  (44, 'File'),\n",
       "  (45, 'File'),\n",
       "  (46, 'File'),\n",
       "  (47, 'File'),\n",
       "  (48, 'File'),\n",
       "  (49, 'File'),\n",
       "  (50, 'File')],\n",
       " [(52, 'File'),\n",
       "  (53, 'File'),\n",
       "  (54, 'File'),\n",
       "  (55, 'File'),\n",
       "  (56, 'File'),\n",
       "  (57, 'File'),\n",
       "  (58, 'File'),\n",
       "  (59, 'File')],\n",
       " [(60, 'File')]]"
      ]
     },
     "execution_count": 11,
     "metadata": {},
     "output_type": "execute_result"
    }
   ],
   "source": [
    "# Test on swift data\n",
    "vertex = pd.read_csv('swiftData/vertex.csv')\n",
    "edge = pd.read_csv('swiftData/edge.csv')\n",
    "attr = ['type']\n",
    "source = 18\n",
    "ProvSummary_Swift(source, vertex, edge, attr)"
   ]
  },
  {
   "cell_type": "code",
   "execution_count": null,
   "metadata": {
    "collapsed": true
   },
   "outputs": [],
   "source": []
  }
 ],
 "metadata": {
  "kernelspec": {
   "display_name": "Python 2",
   "language": "python",
   "name": "python2"
  },
  "language_info": {
   "codemirror_mode": {
    "name": "ipython",
    "version": 2
   },
   "file_extension": ".py",
   "mimetype": "text/x-python",
   "name": "python",
   "nbconvert_exporter": "python",
   "pygments_lexer": "ipython2",
   "version": "2.7.10"
  }
 },
 "nbformat": 4,
 "nbformat_minor": 0
}
